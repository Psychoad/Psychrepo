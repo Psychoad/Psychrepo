{
  "nbformat": 4,
  "nbformat_minor": 0,
  "metadata": {
    "colab": {
      "private_outputs": true,
      "provenance": [],
      "authorship_tag": "ABX9TyOZF6Pos4e3x/N8fcDFlB8e",
      "include_colab_link": true
    },
    "kernelspec": {
      "name": "python3",
      "display_name": "Python 3"
    },
    "language_info": {
      "name": "python"
    }
  },
  "cells": [
    {
      "cell_type": "markdown",
      "metadata": {
        "id": "view-in-github",
        "colab_type": "text"
      },
      "source": [
        "<a href=\"https://colab.research.google.com/github/Psychoad/Psychrepo/blob/main/Image_Processing_with_OpenCV_and_Python.ipynb\" target=\"_parent\"><img src=\"https://colab.research.google.com/assets/colab-badge.svg\" alt=\"Open In Colab\"/></a>"
      ]
    },
    {
      "cell_type": "code",
      "execution_count": null,
      "metadata": {
        "id": "DCuZYWQ97LLn"
      },
      "outputs": [],
      "source": [
        "'''Convert color image to gray scale'''\n",
        "\n",
        "import cv2\n",
        "from google.colab.patches import cv2_imshow # Import the cv2_imshow function from google.colab.patches\n",
        "\n",
        "src = '/content/Red_Apple.jpg'\n",
        "input_image = cv2.imread(src)\n",
        "cv2_imshow(input_image) # Use cv2_imshow instead of cv2.imshow to display the image\n",
        "cv2.waitKey(0)\n",
        "cv2.destroyAllWindows()\n",
        "if input_image is None:\n",
        "    print('Could not open image: ', input_image)\n",
        "    exit(0)\n",
        "\n",
        "# Grayscale version of the input:\n",
        "gray_image = cv2.cvtColor(input_image, cv2.COLOR_BGR2GRAY)\n",
        "\n",
        "# Display grayscale version\n",
        "cv2_imshow(gray_image) # Use cv2_imshow instead of cv2.imshow to display the image\n",
        "\n",
        "cv2.waitKey(0)\n",
        "cv2.destroyAllWindows()"
      ]
    },
    {
      "cell_type": "code",
      "source": [
        "'''Separating BGR and Combining Bgr Channels'''\n",
        "\n",
        "import cv2\n",
        "import numpy as np\n",
        "from google.colab.patches import cv2_imshow # Import cv2_imshow\n",
        "\n",
        "src = '/content/Red_Apple.jpg'\n",
        "input_image = cv2.imread(src)\n",
        "if input_image is None:\n",
        "    print('Could not open image: ', input_image)\n",
        "    exit(0)\n",
        "\n",
        "# Splitting image into RGB channels:\n",
        "blue, green, red = cv2.split(input_image)\n",
        "cv2_imshow(blue) # Use cv2_imshow instead of cv2.imshow\n",
        "cv2.waitKey(0)\n",
        "cv2.destroyAllWindows()\n",
        "cv2_imshow(green) # Use cv2_imshow instead of cv2.imshow\n",
        "cv2.waitKey(0)\n",
        "cv2.destroyAllWindows()\n",
        "cv2_imshow(red) # Use cv2_imshow instead of cv2.imshow\n",
        "cv2.waitKey(0)\n",
        "cv2.destroyAllWindows()"
      ],
      "metadata": {
        "id": "c5DfR5w_BPkD"
      },
      "execution_count": null,
      "outputs": []
    },
    {
      "cell_type": "code",
      "source": [
        "'''Separating BGR and Combining Bgr Channels'''\n",
        "\n",
        "import cv2\n",
        "import numpy as np\n",
        "from google.colab.patches import cv2_imshow # Import cv2_imshow\n",
        "\n",
        "src = '/content/Red_Apple.jpg'\n",
        "input_image = cv2.imread(src)\n",
        "if input_image is None:\n",
        "    print('Could not open image: ', input_image)\n",
        "    exit(0)\n",
        "\n",
        "# Splitting image into RGB channels:\n",
        "blue, green, red = cv2.split(input_image)\n",
        "cv2_imshow(blue) # Use cv2_imshow instead of cv2.imshow\n",
        "cv2.waitKey(0)\n",
        "cv2.destroyAllWindows()\n",
        "cv2_imshow(green) # Use cv2_imshow instead of cv2.imshow\n",
        "cv2.waitKey(0)\n",
        "cv2.destroyAllWindows()\n",
        "cv2_imshow(red) # Use cv2_imshow instead of cv2.imshow\n",
        "cv2.waitKey(0)\n",
        "cv2.destroyAllWindows()\n",
        "\n",
        "# We create a dummy 3D array\n",
        "blue_channel = np.zeros(input_image.shape, input_image.dtype)\n",
        "green_channel = np.zeros(input_image.shape, input_image.dtype)\n",
        "red_channel = np.zeros(input_image.shape, input_image.dtype)\n",
        "\n",
        "# We match each color channel to a 3D dimension:\n",
        "    # Blue Rendering :[blue; 0; 0]\n",
        "    # Green Rendering :[0; green; 0]\n",
        "    # Red Rendering :[0; 0; red]\n",
        "cv2.mixChannels([blue, green, red], [blue_channel], [0,0])\n",
        "cv2.mixChannels([blue, green, red], [green_channel], [1,1])\n",
        "cv2.mixChannels([blue, green, red], [red_channel], [2,2])\n",
        "\n",
        "# Display the three obtained images\n",
        "cv2_imshow(blue_channel) # Use cv2_imshow instead of cv2.imshow\n",
        "cv2.waitKey(0)\n",
        "cv2.destroyAllWindows()\n",
        "cv2_imshow(green_channel) # Use cv2_imshow instead of cv2.imshow\n",
        "cv2.waitKey(0)\n",
        "cv2.destroyAllWindows()\n",
        "cv2_imshow(red_channel) # Use cv2_imshow instead of cv2.imshow\n",
        "cv2.waitKey(0)\n",
        "cv2.destroyAllWindows()\n",
        "\n"
      ],
      "metadata": {
        "id": "aAVeauPaBXUm"
      },
      "execution_count": null,
      "outputs": []
    },
    {
      "cell_type": "code",
      "source": [
        "'''Blurring an Image'''\n",
        "\n",
        "import cv2\n",
        "from google.colab.patches import cv2_imshow # Import cv2_imshow for displaying images in Colab\n",
        "\n",
        "img=cv2.imread('/content/Red_Apple.jpg')\n",
        "cv2_imshow(img) # Use cv2_imshow instead of cv2.imshow\n",
        "cv2.waitKey(0)\n",
        "cv2.destroyAllWindows()\n",
        "blur_image=cv2.medianBlur(img,13)\n",
        "cv2_imshow(blur_image)  # Use cv2_imshow instead of cv2.imshow\n",
        "cv2.waitKey(0)\n",
        "cv2.destroyAllWindows()"
      ],
      "metadata": {
        "id": "iA2zLwDMDFaq"
      },
      "execution_count": null,
      "outputs": []
    }
  ]
}