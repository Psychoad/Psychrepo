{
  "nbformat": 4,
  "nbformat_minor": 0,
  "metadata": {
    "colab": {
      "private_outputs": true,
      "provenance": [],
      "authorship_tag": "ABX9TyP18xgez0YXMG5lfdf1vAnA",
      "include_colab_link": true
    },
    "kernelspec": {
      "name": "python3",
      "display_name": "Python 3"
    },
    "language_info": {
      "name": "python"
    }
  },
  "cells": [
    {
      "cell_type": "markdown",
      "metadata": {
        "id": "view-in-github",
        "colab_type": "text"
      },
      "source": [
        "<a href=\"https://colab.research.google.com/github/Psychoad/Psychrepo/blob/main/Basics_Reading%2C_Saving_and_Displaying_an_Imageipynb.ipynb\" target=\"_parent\"><img src=\"https://colab.research.google.com/assets/colab-badge.svg\" alt=\"Open In Colab\"/></a>"
      ]
    },
    {
      "cell_type": "markdown",
      "source": [
        "Importing libraries"
      ],
      "metadata": {
        "id": "6uT7U_UW2fNA"
      }
    },
    {
      "cell_type": "code",
      "execution_count": null,
      "metadata": {
        "id": "YycbycIj2Q6A"
      },
      "outputs": [],
      "source": [
        "import numpy as np\n",
        "import matplotlib.pyplot as plt"
      ]
    },
    {
      "cell_type": "markdown",
      "source": [
        "Reading an Image"
      ],
      "metadata": {
        "id": "oMpAzBD02quF"
      }
    },
    {
      "cell_type": "code",
      "source": [
        "import cv2\n",
        "image = cv2.imread('/content/istockphoto-1321458945-612x612.jpg')\n",
        "image_rgb = cv2.cvtColor(image, cv2.COLOR_BGR2RGB)\n",
        "\n",
        "plt.title('Original')\n",
        "plt.imshow(image_rgb)\n"
      ],
      "metadata": {
        "id": "xg6-5bZd2tJc"
      },
      "execution_count": null,
      "outputs": []
    },
    {
      "cell_type": "markdown",
      "source": [
        "Saving the Grayscale Image"
      ],
      "metadata": {
        "id": "fCbypZG_5WcJ"
      }
    },
    {
      "cell_type": "code",
      "source": [
        "gray_image = cv2.imread('/content/istockphoto-1321458945-612x612.jpg', cv2.COLOR_BGR2GRAY)\n",
        "\n",
        "# Saving using imwrite()\n",
        "cv2.imwrite('baby_image.jpg', gray_image)\n",
        "\n",
        "plt.title(\"Grat-Scale\")\n",
        "plt.imshow(gray_image)\n"
      ],
      "metadata": {
        "id": "1yQGERJZ5V-8"
      },
      "execution_count": null,
      "outputs": []
    },
    {
      "cell_type": "markdown",
      "source": [
        "Loading and displaying the saved image"
      ],
      "metadata": {
        "id": "OoPUvlAP6tLS"
      }
    },
    {
      "cell_type": "code",
      "source": [
        "# Loading\n",
        "img = cv2.imread('baby_image.jpg')\n",
        "\n",
        "# Displaying\n",
        "plt.title(\"Saved Image\")\n",
        "plt.imshow(img)"
      ],
      "metadata": {
        "id": "MIvGlkYz6rSL"
      },
      "execution_count": null,
      "outputs": []
    }
  ]
}