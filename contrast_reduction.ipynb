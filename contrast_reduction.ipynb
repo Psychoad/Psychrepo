{
  "nbformat": 4,
  "nbformat_minor": 0,
  "metadata": {
    "colab": {
      "private_outputs": true,
      "provenance": [],
      "authorship_tag": "ABX9TyNwKZKPSiBt67OaXBdMyox1",
      "include_colab_link": true
    },
    "kernelspec": {
      "name": "python3",
      "display_name": "Python 3"
    },
    "language_info": {
      "name": "python"
    }
  },
  "cells": [
    {
      "cell_type": "markdown",
      "metadata": {
        "id": "view-in-github",
        "colab_type": "text"
      },
      "source": [
        "<a href=\"https://colab.research.google.com/github/Psychoad/Psychrepo/blob/main/contrast_reduction.ipynb\" target=\"_parent\"><img src=\"https://colab.research.google.com/assets/colab-badge.svg\" alt=\"Open In Colab\"/></a>"
      ]
    },
    {
      "cell_type": "code",
      "source": [
        "import cv2\n",
        "from matplotlib import pyplot as plt\n",
        "import PIL as pillow\n",
        "import numpy as np\n",
        "\n",
        "# Assuming the image file 'images.jpeg' is in the /content directory\n",
        "image = cv2.imread('/content/images.jpeg')\n",
        "\n",
        "# Check if the image was loaded successfully\n",
        "if image is not None:\n",
        "    plt.imshow(image)\n",
        "    plt.show()  # Display the image\n",
        "else:\n",
        "    print(\"Error: Image not loaded. Please check the file path.\")"
      ],
      "metadata": {
        "id": "yD0clcA8pb4i"
      },
      "execution_count": null,
      "outputs": []
    },
    {
      "cell_type": "code",
      "source": [
        "imagem = cv2.bitwise_not(image)\n",
        "plt.imshow(imagem)\n",
        "cv2.imwrite('/content/images (1).jpeg', imagem)\n"
      ],
      "metadata": {
        "id": "kV0_uaTwpekp"
      },
      "execution_count": null,
      "outputs": []
    },
    {
      "cell_type": "code",
      "source": [
        "from PIL import Image\n",
        "from numpy import array\n",
        "im_1 = Image.open('/content/images.jpeg')\n",
        "ar_1 = array(im_1)\n",
        "ar_1\n",
        "\n",
        "im_2 = Image.open('/content/images (1).jpeg')\n",
        "ar_2 = array(im_2)\n",
        "ar_2"
      ],
      "metadata": {
        "id": "GPCOZOR1p4HY"
      },
      "execution_count": null,
      "outputs": []
    }
  ]
}