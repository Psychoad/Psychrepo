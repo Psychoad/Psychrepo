{
  "nbformat": 4,
  "nbformat_minor": 0,
  "metadata": {
    "colab": {
      "private_outputs": true,
      "provenance": [],
      "authorship_tag": "ABX9TyPonFezoKiutxaZBa/9XC5G",
      "include_colab_link": true
    },
    "kernelspec": {
      "name": "python3",
      "display_name": "Python 3"
    },
    "language_info": {
      "name": "python"
    }
  },
  "cells": [
    {
      "cell_type": "markdown",
      "metadata": {
        "id": "view-in-github",
        "colab_type": "text"
      },
      "source": [
        "<a href=\"https://colab.research.google.com/github/Psychoad/Psychrepo/blob/main/Image_Enhancement.ipynb\" target=\"_parent\"><img src=\"https://colab.research.google.com/assets/colab-badge.svg\" alt=\"Open In Colab\"/></a>"
      ]
    },
    {
      "cell_type": "markdown",
      "source": [
        "Code to read the image"
      ],
      "metadata": {
        "id": "UscwCYebLKmY"
      }
    },
    {
      "cell_type": "code",
      "source": [
        "import random\n",
        "import cv2 # Import the cv2 module at the top of the file\n",
        "from matplotlib import pyplot as plt\n",
        "\n",
        "def add_noise(img):\n",
        "    row, col = image.shape\n",
        "    number_of_pixels = random.randint(300, 10000)\n",
        "    for i in range(number_of_pixels):\n",
        "        ycord=random.randint(0, row - 1)\n",
        "        xcord=random.randint(0, col - 1)\n",
        "        image[ycord][xcord] = 255\n",
        "    number_of_pixels = random.randint(300, 10000)\n",
        "    for i in range(number_of_pixels):\n",
        "        ycord=random.randint(0, row - 1)\n",
        "        xcord=random.randint(0, col - 1)\n",
        "        image[ycord][xcord] = 0\n",
        "    return img\n",
        "\n",
        "image = cv2.imread('/content/Red_Apple.jpg') # Now, cv2 can be accessed by cells below this one\n",
        "plt.imshow(image)\n",
        "plt.show()"
      ],
      "metadata": {
        "id": "-bWkLvK-LKUn"
      },
      "execution_count": null,
      "outputs": []
    },
    {
      "cell_type": "code",
      "source": [
        "image_rgb = cv2.cvtColor(image, cv2.COLOR_BGR2RGB)\n",
        "plt.imshow(image_rgb)\n",
        "plt.show()"
      ],
      "metadata": {
        "id": "xEkatoUcL07S"
      },
      "execution_count": null,
      "outputs": []
    },
    {
      "cell_type": "markdown",
      "source": [
        "Code to create salt and pepper effect on the image"
      ],
      "metadata": {
        "id": "jxSXB-ENMA8q"
      }
    },
    {
      "cell_type": "code",
      "source": [
        "import random\n",
        "import cv2\n",
        "import numpy as np  # Importing numpy for image processing\n",
        "from matplotlib import pyplot as plt\n",
        "\n",
        "def add_salt_and_pepper_noise(img, salt_prob=0.01, pepper_prob=0.01):\n",
        "    # Create a copy of the image to preserve the original one\n",
        "    noisy_img = np.copy(img)\n",
        "    row, col, ch = noisy_img.shape  # Get the shape of the image\n",
        "\n",
        "    # Salt noise (white pixels)\n",
        "    num_salt = int(np.ceil(salt_prob * row * col))\n",
        "    for _ in range(num_salt):\n",
        "        ycord = random.randint(0, row - 1)\n",
        "        xcord = random.randint(0, col - 1)\n",
        "        noisy_img[ycord, xcord] = [255, 255, 255]  # Set pixel to white\n",
        "\n",
        "    # Pepper noise (black pixels)\n",
        "    num_pepper = int(np.ceil(pepper_prob * row * col))\n",
        "    for _ in range(num_pepper):\n",
        "        ycord = random.randint(0, row - 1)\n",
        "        xcord = random.randint(0, col - 1)\n",
        "        noisy_img[ycord, xcord] = [0, 0, 0]  # Set pixel to black\n",
        "\n",
        "    return noisy_img\n",
        "\n",
        "# Load the image\n",
        "image = cv2.imread('/content/Red_Apple.jpg')\n",
        "image = cv2.cvtColor(image, cv2.COLOR_BGR2RGB)  # Convert from BGR to RGB for proper display\n",
        "\n",
        "# Add salt-and-pepper noise\n",
        "noisy_image = add_salt_and_pepper_noise(image, salt_prob=0.02, pepper_prob=0.02)\n",
        "\n",
        "# Plot the original and noisy images side by side\n",
        "plt.figure(figsize=(10, 5))\n",
        "\n",
        "plt.subplot(1, 2, 1)\n",
        "plt.title(\"Original Image\")\n",
        "plt.imshow(image)\n",
        "plt.axis(\"off\")\n",
        "\n",
        "plt.subplot(1, 2, 2)\n",
        "plt.title(\"Salt and Pepper Noise\")\n",
        "plt.imshow(noisy_image)\n",
        "plt.axis(\"off\")\n",
        "\n",
        "plt.show()\n"
      ],
      "metadata": {
        "id": "JvGecYRLL7Fd"
      },
      "execution_count": null,
      "outputs": []
    },
    {
      "cell_type": "markdown",
      "source": [
        "Enhancing the Image"
      ],
      "metadata": {
        "id": "2Y3DyPNtMk6a"
      }
    },
    {
      "cell_type": "code",
      "source": [
        "median = cv2.medianBlur(noisy_image,5) # Changed noise_image to noisy_image\n",
        "plt.imshow(median)\n",
        "plt.show()"
      ],
      "metadata": {
        "id": "QdK16QF0MkuY"
      },
      "execution_count": null,
      "outputs": []
    }
  ]
}